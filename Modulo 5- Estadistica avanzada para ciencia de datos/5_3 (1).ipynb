{
  "nbformat": 4,
  "nbformat_minor": 0,
  "metadata": {
    "colab": {
      "provenance": []
    },
    "kernelspec": {
      "name": "python3",
      "display_name": "Python 3"
    },
    "language_info": {
      "name": "python"
    }
  },
  "cells": [
    {
      "cell_type": "code",
      "execution_count": 1,
      "metadata": {
        "colab": {
          "base_uri": "https://localhost:8080/"
        },
        "id": "9W2NKvd-m7p1",
        "outputId": "90fbbf67-e672-4279-e43a-4b20ddecb249"
      },
      "outputs": [
        {
          "output_type": "execute_result",
          "data": {
            "text/plain": [
              "{'n': 20,\n",
              " 'sum_x': 210,\n",
              " 'sum_y': 485.53999999999996,\n",
              " 'sum_xy': 6268.98,\n",
              " 'sum_x2': 2870,\n",
              " 'mean_x': 10.5,\n",
              " 'mean_y': 24.276999999999997}"
            ]
          },
          "metadata": {},
          "execution_count": 1
        }
      ],
      "source": [
        "import numpy as np\n",
        "\n",
        "\n",
        "x = np.array([1, 2, 3, 4, 5, 6, 7, 8, 9, 10,\n",
        "              11, 12, 13, 14, 15, 16, 17, 18, 19, 20])\n",
        "y = np.array([10.06, 6.6, 10.91, 17.96, 18.47, 9.09, 18.8, 16.39, 18.59, 22.64,\n",
        "              23.58, 30.82, 30.04, 29.49, 32.78, 34.33, 40.98, 36.18, 40.25, 37.58])\n",
        "\n",
        "\n",
        "n = len(x)\n",
        "\n",
        "\n",
        "sum_x = np.sum(x)\n",
        "sum_y = np.sum(y)\n",
        "sum_xy = np.sum(x * y)\n",
        "sum_x2 = np.sum(x**2)\n",
        "\n",
        "\n",
        "mean_x = sum_x / n\n",
        "mean_y = sum_y / n\n",
        "\n",
        "\n",
        "{\n",
        "    \"n\": n,\n",
        "    \"sum_x\": sum_x,\n",
        "    \"sum_y\": sum_y,\n",
        "    \"sum_xy\": sum_xy,\n",
        "    \"sum_x2\": sum_x2,\n",
        "    \"mean_x\": mean_x,\n",
        "    \"mean_y\": mean_y\n",
        "}\n"
      ]
    },
    {
      "cell_type": "code",
      "source": [
        "\n",
        "\n",
        "sum_x_squared_diff = np.sum((x - mean_x) ** 2)\n",
        "\n",
        "\n",
        "sum_diff_product = np.sum((x - mean_x) * (y - mean_y))\n",
        "\n",
        "\n",
        "print(f\"∑(xi - x_mean)^2: {sum_x_squared_diff}\")\n",
        "print(f\"∑(xi - x_mean)(yi - y_mean): {sum_diff_product}\")\n"
      ],
      "metadata": {
        "colab": {
          "base_uri": "https://localhost:8080/"
        },
        "id": "JfwAO1ERo_EU",
        "outputId": "13a6c444-e871-4038-ec6f-5cb94bb58296"
      },
      "execution_count": 3,
      "outputs": [
        {
          "output_type": "stream",
          "name": "stdout",
          "text": [
            "∑(xi - x_mean)^2: 665.0\n",
            "∑(xi - x_mean)(yi - y_mean): 1170.81\n"
          ]
        }
      ]
    }
  ]
}